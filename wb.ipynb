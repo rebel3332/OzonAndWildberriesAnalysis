{
 "cells": [
  {
   "attachments": {},
   "cell_type": "markdown",
   "metadata": {},
   "source": [
    "# Это код для постоянного мониторинга страницы"
   ]
  },
  {
   "cell_type": "code",
   "execution_count": 5,
   "metadata": {},
   "outputs": [],
   "source": [
    "# Go to the Google home page\n",
    "# from bs4 import BeautifulSoup\n",
    "\n",
    "# # url = \"https://www.ozon.ru/product/elektrogril-kitfort-kt-1645-150561428/?avtc=1&avte=4&avts=1671783454&sh=_vLQ0bjDXw#section-description--offset-140\"\n",
    "# # url ='https://ya.ru/'\n",
    "# url = 'https://global.wildberries.ru/product?card=49942341'\n",
    "\n",
    "# def intercept(request):\n",
    "#     print(request)\n",
    "#     # soup = BeautifulSoup(request.date, 'html.parser')\n",
    "#     # print(soup.find_all(attrs={\"class\":{\"reviews-item__comment\"}}))\n",
    "#     # print(soup.find_all('title'))\n",
    "#     # request.url\n",
    "#     # print(request)\n",
    "\n",
    "# driver = webdriver.Chrome()\n",
    "# driver.request_interceptor = intercept\n",
    "# driver.get(url)\n",
    "\n",
    "# # time.sleep(3)"
   ]
  },
  {
   "cell_type": "code",
   "execution_count": 75,
   "metadata": {},
   "outputs": [],
   "source": [
    "from selenium import webdriver\n",
    "from selenium.webdriver.common.by import By\n",
    "import time\n",
    "import pandas as pd\n",
    "import numpy as np\n",
    "import re\n",
    "\n",
    "\n",
    "path_wb = 'data/wb/'\n",
    "path_ozone = 'data/ozone/'"
   ]
  },
  {
   "attachments": {},
   "cell_type": "markdown",
   "metadata": {},
   "source": [
    "# WB"
   ]
  },
  {
   "cell_type": "code",
   "execution_count": 7,
   "metadata": {},
   "outputs": [
    {
     "name": "stdout",
     "output_type": "stream",
     "text": [
      "Загружено 1000 отзывов\n"
     ]
    }
   ],
   "source": [
    "# from seleniumwire import webdriver  # Import from seleniumwire\n",
    "# from selenium import webdriver\n",
    "# from selenium.webdriver.common.by import By\n",
    "# import time\n",
    "\n",
    "# Create a new instance of the Chrome driver\n",
    "options = webdriver.ChromeOptions()\n",
    "# options.binary_location = r'C:\\Program Files\\Mozilla Firefox\\firefox.exe'\n",
    "# options.headless = True # открывает браузер в фоне !!! перестает получать отзывы\n",
    "browser = webdriver.Chrome(options=options)\n",
    "url = 'https://global.wildberries.ru/product?card=49942341'\n",
    "browser.get(url)\n",
    "\n",
    "# Нажимает кнопку \"Показать еще\"\n",
    "f = True\n",
    "while f:\n",
    "    time.sleep(3)\n",
    "    try:\n",
    "        btn = browser.find_element(By.CLASS_NAME, 'btn--show-more').click()\n",
    "    except:\n",
    "        f = False\n",
    "\n",
    "# print(len(btn))\n",
    "time.sleep(10) #productName\n",
    "productName = browser.find_element(By.CLASS_NAME, 'product__title')\n",
    "article = browser.find_element(By.CLASS_NAME, 'article__wrapper')\n",
    "reviews = browser.find_elements(By.CLASS_NAME, 'reviews-item__comment')\n",
    "stars = browser.find_elements(By.CLASS_NAME, 'stars') #data-star\n",
    "# for el in browser.find_elements(By.CLASS_NAME, 'reviews-item__comment'):\n",
    "#     print(el.text)\n",
    "print(f'Загружено {len(reviews)} отзывов')\n",
    "# browser.find_elements(By.TAG_NAME , 'div')\n",
    "# browser.find_elements('reviews-item__comment')"
   ]
  },
  {
   "attachments": {},
   "cell_type": "markdown",
   "metadata": {},
   "source": [
    "    Достаю текст озывов и звезды"
   ]
  },
  {
   "cell_type": "code",
   "execution_count": 8,
   "metadata": {},
   "outputs": [],
   "source": [
    "reviews_items = browser.find_elements(By.CLASS_NAME, 'reviews-item')\n",
    "reviews = [x.find_element(By.CLASS_NAME, 'reviews-item__comment').text for x in reviews_items]\n",
    "stars = [x.find_element(By.CLASS_NAME, 'stars').get_attribute('data-star') for x in reviews_items]"
   ]
  },
  {
   "attachments": {},
   "cell_type": "markdown",
   "metadata": {},
   "source": [
    "    Сохраняю отзывы в файл"
   ]
  },
  {
   "cell_type": "code",
   "execution_count": 10,
   "metadata": {},
   "outputs": [
    {
     "data": {
      "text/html": [
       "<div>\n",
       "<style scoped>\n",
       "    .dataframe tbody tr th:only-of-type {\n",
       "        vertical-align: middle;\n",
       "    }\n",
       "\n",
       "    .dataframe tbody tr th {\n",
       "        vertical-align: top;\n",
       "    }\n",
       "\n",
       "    .dataframe thead th {\n",
       "        text-align: right;\n",
       "    }\n",
       "</style>\n",
       "<table border=\"1\" class=\"dataframe\">\n",
       "  <thead>\n",
       "    <tr style=\"text-align: right;\">\n",
       "      <th></th>\n",
       "      <th>Отзывы</th>\n",
       "      <th>Звузды</th>\n",
       "      <th>original</th>\n",
       "    </tr>\n",
       "  </thead>\n",
       "  <tbody>\n",
       "    <tr>\n",
       "      <th>995</th>\n",
       "      <td>вилка хлипкая,но 92 р можно потерпеть  все раб...</td>\n",
       "      <td>5</td>\n",
       "      <td>Вилка хлипкая,но 92 р можно потерпеть 😅 всё ра...</td>\n",
       "    </tr>\n",
       "    <tr>\n",
       "      <th>996</th>\n",
       "      <td>работает,вилка очень хрупкая,из розетки вывали...</td>\n",
       "      <td>2</td>\n",
       "      <td>Работает,вилка очень хрупкая,из розетки вывали...</td>\n",
       "    </tr>\n",
       "    <tr>\n",
       "      <th>997</th>\n",
       "      <td>работает отлично</td>\n",
       "      <td>5</td>\n",
       "      <td>Работает отлично!</td>\n",
       "    </tr>\n",
       "    <tr>\n",
       "      <th>998</th>\n",
       "      <td>заказала два,оба работают</td>\n",
       "      <td>5</td>\n",
       "      <td>Заказала два,оба работают.</td>\n",
       "    </tr>\n",
       "    <tr>\n",
       "      <th>999</th>\n",
       "      <td>отличный удлинитель, пришел в рабочем состояни...</td>\n",
       "      <td>5</td>\n",
       "      <td>Отличный удлинитель, пришёл в рабочем состояни...</td>\n",
       "    </tr>\n",
       "  </tbody>\n",
       "</table>\n",
       "</div>"
      ],
      "text/plain": [
       "                                                Отзывы Звузды  \\\n",
       "995  вилка хлипкая,но 92 р можно потерпеть  все раб...      5   \n",
       "996  работает,вилка очень хрупкая,из розетки вывали...      2   \n",
       "997                                   работает отлично      5   \n",
       "998                          заказала два,оба работают      5   \n",
       "999  отличный удлинитель, пришел в рабочем состояни...      5   \n",
       "\n",
       "                                              original  \n",
       "995  Вилка хлипкая,но 92 р можно потерпеть 😅 всё ра...  \n",
       "996  Работает,вилка очень хрупкая,из розетки вывали...  \n",
       "997                                  Работает отлично!  \n",
       "998                         Заказала два,оба работают.  \n",
       "999  Отличный удлинитель, пришёл в рабочем состояни...  "
      ]
     },
     "metadata": {},
     "output_type": "display_data"
    }
   ],
   "source": [
    "\n",
    "\n",
    "df = pd.DataFrame({'Отзывы': reviews,\n",
    "                  'Звузды': stars,\n",
    "                  'original': reviews})\n",
    "df['Отзывы'] = df['Отзывы'].apply(lambda x: re.sub('[^A-Za-z0-9А-Яа-яЁё ,]+', '', x.lower().replace('ё', 'е')))\n",
    "display(df.tail())\n",
    "# file_name = article.text.replace(' ', '_').replace(':', '')+'.csv'\n",
    "file_name = re.sub('[^A-Za-z0-9А-Яа-я ]+', '', article.text)\n",
    "df.to_csv(path_wb + file_name + '.csv', index=True, index_label='index')\n",
    "# display(df['Отзывы'].apply(lambda x: re.sub('[^A-Za-z0-9А-Яа-я ]+', '', x)))"
   ]
  },
  {
   "attachments": {},
   "cell_type": "markdown",
   "metadata": {},
   "source": [
    "### Работа с данными из файла"
   ]
  },
  {
   "cell_type": "code",
   "execution_count": 11,
   "metadata": {},
   "outputs": [
    {
     "data": {
      "text/html": [
       "<div>\n",
       "<style scoped>\n",
       "    .dataframe tbody tr th:only-of-type {\n",
       "        vertical-align: middle;\n",
       "    }\n",
       "\n",
       "    .dataframe tbody tr th {\n",
       "        vertical-align: top;\n",
       "    }\n",
       "\n",
       "    .dataframe thead th {\n",
       "        text-align: right;\n",
       "    }\n",
       "</style>\n",
       "<table border=\"1\" class=\"dataframe\">\n",
       "  <thead>\n",
       "    <tr style=\"text-align: right;\">\n",
       "      <th></th>\n",
       "      <th>Отзывы</th>\n",
       "      <th>Звузды</th>\n",
       "      <th>original</th>\n",
       "    </tr>\n",
       "    <tr>\n",
       "      <th>index</th>\n",
       "      <th></th>\n",
       "      <th></th>\n",
       "      <th></th>\n",
       "    </tr>\n",
       "  </thead>\n",
       "  <tbody>\n",
       "    <tr>\n",
       "      <th>997</th>\n",
       "      <td>работает отлично</td>\n",
       "      <td>5</td>\n",
       "      <td>Работает отлично!</td>\n",
       "    </tr>\n",
       "    <tr>\n",
       "      <th>998</th>\n",
       "      <td>заказала два,оба работают</td>\n",
       "      <td>5</td>\n",
       "      <td>Заказала два,оба работают.</td>\n",
       "    </tr>\n",
       "    <tr>\n",
       "      <th>999</th>\n",
       "      <td>отличный удлинитель, пришел в рабочем состояни...</td>\n",
       "      <td>5</td>\n",
       "      <td>Отличный удлинитель, пришёл в рабочем состояни...</td>\n",
       "    </tr>\n",
       "  </tbody>\n",
       "</table>\n",
       "</div>"
      ],
      "text/plain": [
       "                                                  Отзывы  Звузды  \\\n",
       "index                                                              \n",
       "997                                     работает отлично       5   \n",
       "998                            заказала два,оба работают       5   \n",
       "999    отличный удлинитель, пришел в рабочем состояни...       5   \n",
       "\n",
       "                                                original  \n",
       "index                                                     \n",
       "997                                    Работает отлично!  \n",
       "998                           Заказала два,оба работают.  \n",
       "999    Отличный удлинитель, пришёл в рабочем состояни...  "
      ]
     },
     "execution_count": 11,
     "metadata": {},
     "output_type": "execute_result"
    }
   ],
   "source": [
    "file_name = 'Артикул 49942341'\n",
    "df = pd.read_csv(path_wb + file_name + '.csv', index_col='index')\n",
    "df.tail(3)"
   ]
  },
  {
   "attachments": {},
   "cell_type": "markdown",
   "metadata": {},
   "source": [
    "    Анализ популярности слов в отзывах\n",
    "* результат в файл _w.csv"
   ]
  },
  {
   "cell_type": "code",
   "execution_count": 13,
   "metadata": {},
   "outputs": [
    {
     "data": {
      "text/plain": [
       "все             468\n",
       "удлинитель      335\n",
       "работает        233\n",
       "спасибо         202\n",
       "все работает    191\n",
       "dtype: int64"
      ]
     },
     "execution_count": 13,
     "metadata": {},
     "output_type": "execute_result"
    }
   ],
   "source": [
    "# pd.Series(words).value_counts().sort_values(ascending=False)\n",
    "words = dict()\n",
    "for el in df['Отзывы'].values:\n",
    "    temp = el.replace(',', ' ').split(' ')\n",
    "    for i, t in enumerate(temp):\n",
    "        # print(t, t not in words, words)\n",
    "        if i>0: # Ищет предлоги перед словом\n",
    "            predlogs = ['не', 'все']\n",
    "            for predlog in predlogs:\n",
    "                if temp[i-1] == predlog:\n",
    "                    t = predlog + ' ' + t\n",
    "        # Фильтрую слова\n",
    "        if t not in ['']:\n",
    "            # Добавляю слова, которые прошли фильтр\n",
    "            if t in words.keys():\n",
    "                words[t] = words[t] + 1\n",
    "            else:\n",
    "                words[t] = 1\n",
    "top_words = pd.Series(words).sort_values(ascending=False)\n",
    "top_words.to_csv(path_wb + file_name + '_w' + '.csv')\n",
    "top_words.head(5)\n"
   ]
  },
  {
   "attachments": {},
   "cell_type": "markdown",
   "metadata": {},
   "source": [
    "    Статистика по словарю\n",
    "* результат в файл _p.csv\n",
    "* результат в файл _n.csv"
   ]
  },
  {
   "cell_type": "code",
   "execution_count": 14,
   "metadata": {},
   "outputs": [
    {
     "data": {
      "text/plain": [
       "хорошо           93\n",
       "быстро           93\n",
       "все работает    202\n",
       "спасибо         220\n",
       "отлично         120\n",
       "хороший         128\n",
       "работает        449\n",
       "dtype: int64"
      ]
     },
     "metadata": {},
     "output_type": "display_data"
    },
    {
     "data": {
      "text/plain": [
       "отвалился       1\n",
       "вспыхнул        2\n",
       "повреждений    13\n",
       "не работает     7\n",
       "dtype: int64"
      ]
     },
     "metadata": {},
     "output_type": "display_data"
    }
   ],
   "source": [
    "positiv = ['хорошо', 'быстро', 'все работает', 'спасибо', 'отлично', 'хороший', 'работает']\n",
    "negativ = ['отвалился', 'вспыхнул', 'повреждений','не работает']\n",
    "\n",
    "rez_positiv = {}\n",
    "rez_negativ = {}\n",
    "for el in positiv:\n",
    "    rez_positiv[el] = df['Отзывы'].apply(lambda x: el in x).sum()\n",
    "for el in negativ:\n",
    "    rez_negativ[el] = df['Отзывы'].apply(lambda x: el in x).sum()\n",
    "\n",
    "s_rez_positiv = pd.Series(rez_positiv)\n",
    "s_rez_negativ = pd.Series(rez_negativ)\n",
    "s_rez_positiv.to_csv(path_wb + file_name + '_p' + '.csv')\n",
    "s_rez_negativ.to_csv(path_wb + file_name + '_n' + '.csv')\n",
    "display(s_rez_positiv)\n",
    "display(s_rez_negativ)"
   ]
  },
  {
   "attachments": {},
   "cell_type": "markdown",
   "metadata": {},
   "source": [
    "# Для проверки на ботов\n",
    "https://bot.sannysoft.com/"
   ]
  },
  {
   "attachments": {},
   "cell_type": "markdown",
   "metadata": {},
   "source": [
    "# FF\n",
    "не доделал"
   ]
  },
  {
   "cell_type": "code",
   "execution_count": null,
   "metadata": {},
   "outputs": [],
   "source": [
    "# # Create a new instance of the Chrome driver\n",
    "# from selenium.webdriver.firefox.options import Options\n",
    "# # options = Options()\n",
    "# options = webdriver.FirefoxOptions()\n",
    "# options.binary_location = r'C:\\Program Files\\Mozilla Firefox\\firefox.exe'\n",
    "# options.set_preference('dom.webdriver.enabled', False)\n",
    "\n",
    "\n",
    "# browser = webdriver.Firefox(options=options)\n",
    "# url = 'https://global.wildberries.ru/product?card=49942341'\n",
    "# browser.get(url)\n",
    "# # Кнопка еще отзывы\n",
    "# # btn--show-more btn\n",
    "# # f = True\n",
    "# # while f:\n",
    "# #     time.sleep(3)\n",
    "# #     try:\n",
    "# #         btn = browser.find_element(By.CLASS_NAME, 'btn--show-more').click()\n",
    "# #     except:\n",
    "# #         f = False\n",
    "\n",
    "# # print(len(btn))\n",
    "# time.sleep(1)\n",
    "# reviews = browser.find_elements(By.CLASS_NAME, 'reviews-item__comment')\n",
    "# # for el in browser.find_elements(By.CLASS_NAME, 'reviews-item__comment'):\n",
    "# #     print(el.text)\n",
    "# print(len(reviews))\n",
    "# # browser.find_elements(By.TAG_NAME , 'div')\n",
    "# # browser.find_elements('reviews-item__comment')"
   ]
  }
 ],
 "metadata": {
  "kernelspec": {
   "display_name": "Python 3",
   "language": "python",
   "name": "python3"
  },
  "language_info": {
   "codemirror_mode": {
    "name": "ipython",
    "version": 3
   },
   "file_extension": ".py",
   "mimetype": "text/x-python",
   "name": "python",
   "nbconvert_exporter": "python",
   "pygments_lexer": "ipython3",
   "version": "3.8.7"
  },
  "orig_nbformat": 4,
  "vscode": {
   "interpreter": {
    "hash": "7d684bffd5f083869957e8be1feba540335dc9e4c8667b20b64a7d6f2068319d"
   }
  }
 },
 "nbformat": 4,
 "nbformat_minor": 2
}
