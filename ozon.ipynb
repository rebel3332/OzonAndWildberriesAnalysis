{
 "cells": [
  {
   "cell_type": "code",
   "execution_count": 2,
   "metadata": {},
   "outputs": [],
   "source": [
    "from selenium import webdriver\n",
    "from selenium.webdriver.common.by import By\n",
    "from selenium_stealth import stealth\n",
    "import time\n",
    "import pandas as pd\n",
    "import numpy as np\n",
    "import re\n",
    "\n",
    "path_ozone = 'data/ozone/'\n"
   ]
  },
  {
   "attachments": {},
   "cell_type": "markdown",
   "metadata": {},
   "source": [
    "# OZONE"
   ]
  },
  {
   "cell_type": "code",
   "execution_count": 9,
   "metadata": {},
   "outputs": [
    {
     "name": "stderr",
     "output_type": "stream",
     "text": [
      "C:\\Users\\mazun\\AppData\\Local\\Temp\\ipykernel_8516\\2187999873.py:10: DeprecationWarning: executable_path has been deprecated, please pass in a Service object\n",
      "  driver = webdriver.Chrome(options=options, executable_path=r\"chromedriver.exe\")\n"
     ]
    },
    {
     "name": "stdout",
     "output_type": "stream",
     "text": [
      "Нажато на кноку 2 раз.\n",
      "Нажато на кноку 4 раз.\n",
      "Нажато на кноку 6 раз.\n",
      "Нажато на кноку 8 раз.\n",
      "Нажато на кноку 10 раз.\n",
      "Нажато на кноку 12 раз.\n",
      "Нажато на кноку 14 раз.\n",
      "Нажато на кноку 16 раз.\n",
      "Нажато на кноку 18 раз.\n",
      "Нажато на кноку 20 раз.\n",
      "Нажато на кноку 22 раз.\n",
      "Нажато на кноку 24 раз.\n",
      "Нажато на кноку 26 раз.\n",
      "Нажато на кноку 28 раз.\n",
      "Нажато на кноку 30 раз.\n",
      "Нажато на кноку 32 раз.\n",
      "Нажато на кноку 34 раз.\n",
      "Нажато на кноку 36 раз.\n",
      "Нажато на кноку 38 раз.\n",
      "Нажато на кноку 40 раз.\n",
      "Нажато на кноку 42 раз.\n",
      "Нажато на кноку 44 раз.\n",
      "Нажато на кноку 46 раз.\n",
      "Нажато на кноку 48 раз.\n",
      "Нажато на кноку 50 раз.\n",
      "Нажато на кноку 52 раз.\n",
      "Нажато на кноку 54 раз.\n",
      "Нажато на кноку 56 раз.\n",
      "Нажато на кноку 58 раз.\n",
      "Нажато на кноку 60 раз.\n",
      "Нажато на кноку 62 раз.\n",
      "Нажато на кноку 64 раз.\n",
      "Нажато на кноку 66 раз.\n",
      "Нажато на кноку 68 раз.\n",
      "Нажато на кноку 70 раз.\n",
      "Нажато на кноку 72 раз.\n",
      "Нажато на кноку 74 раз.\n",
      "Нажато на кноку 76 раз.\n",
      "Нажато на кноку 78 раз.\n",
      "Нажато на кноку 80 раз.\n",
      "Нажато на кноку 82 раз.\n",
      "Нажато на кноку 84 раз.\n",
      "Нажато на кноку 86 раз.\n",
      "Нажато на кноку 88 раз.\n",
      "Нажато на кноку 90 раз.\n",
      "Нажато на кноку 92 раз.\n",
      "Нажато на кноку 94 раз.\n",
      "Нажато на кноку 96 раз.\n",
      "Нажато на кноку 98 раз.\n",
      "Нажато на кноку 100 раз.\n"
     ]
    },
    {
     "data": {
      "text/plain": [
       "100"
      ]
     },
     "execution_count": 9,
     "metadata": {},
     "output_type": "execute_result"
    }
   ],
   "source": [
    "\n",
    "options = webdriver.ChromeOptions()\n",
    "options.add_argument(\"start-maximized\")\n",
    "\n",
    "# options.add_argument(\"--headless\")\n",
    "\n",
    "options.add_experimental_option(\"excludeSwitches\", [\"enable-automation\"])\n",
    "options.add_experimental_option('useAutomationExtension', False)\n",
    "options.add_argument(\"--disable-blink-features=AutomationControl\")\n",
    "options.add_argument(\"--headless\")\n",
    "driver = webdriver.Chrome(options=options, executable_path=r\"chromedriver.exe\")\n",
    "\n",
    "stealth(driver,\n",
    "        languages=[\"ru-RU\", \"ru\"],\n",
    "        vendor=\"Google Inc.\",\n",
    "        platform=\"Win64\",\n",
    "        webgl_vendor=\"Intel Inc.\",\n",
    "        renderer=\"Intel Iris OpenGL Engine Home\",\n",
    "        fix_hairline=True,\n",
    "        )\n",
    "\n",
    "url = \"https://www.ozon.ru/product/momi-podguzniki-detskie-6-11-kg-razmer-3-m-62-sht-ultra-care-269827648/?asb=GNUzBETN0X53iX0tEYEUIvz1IOz2FYSdD9ej2Z6D6TU%253D&asb2=4hbsbIcpeGprJhZlvvdz0VKDyDynFdDHPYtFzE4pvWQK5EZYz7m0KYMDEWosMPqF&avtc=1&avte=1&avts=1671829189&sh=_vLQ0WEU9w&tab=reviews\"\n",
    "driver.get(url)\n",
    "time.sleep(5)\n",
    "driver.execute_script(\"window.scrollTo(5,4000);\")\n",
    "\n",
    "# жму кнопку по получению дополнительных комментариев\n",
    "f = True\n",
    "count = 0 # счетчик нажатий на кнопку\n",
    "while f:\n",
    "        try:\n",
    "                time.sleep(1)\n",
    "                # нажатие на кнопку\n",
    "                element = driver.find_element(By.CSS_SELECTOR, '#layoutPage > div > div:nth-child(7) > div > div.container.b0 > div.u1n.nu8.nu5.n6u > div:nth-child(4) > div > div.zo > div:nth-child(2) > div > div.d1.c3 > div.fa4a > div.afa4 > div > div > button > span > span')\n",
    "                driver.execute_script(\"arguments[0].click();\", element)\n",
    "                count += 1\n",
    "                if count % 2 == 0:\n",
    "                        # count_blocs = len(driver.find_elements(By.CLASS_NAME, 'aa4f'))\n",
    "                        print(f'Нажато на кноку {count} раз.') #  Загружено {count_blocs} отзывовов.\n",
    "                if count==100:\n",
    "                        f = False\n",
    "        except:\n",
    "                f = False\n",
    "count\n",
    "if count == 0:\n",
    "        print(f'count={count}, Скорее всего можно исправить, поменяв параметр \"renderer\"')"
   ]
  },
  {
   "attachments": {},
   "cell_type": "markdown",
   "metadata": {},
   "source": [
    "    Парсю комментарии по товару и созхраняю в файл\n",
    "* Сохраняю отзывы в файл .csv"
   ]
  },
  {
   "cell_type": "code",
   "execution_count": 10,
   "metadata": {},
   "outputs": [
    {
     "data": {
      "text/plain": [
       "1010"
      ]
     },
     "execution_count": 10,
     "metadata": {},
     "output_type": "execute_result"
    }
   ],
   "source": [
    "file_name = driver.find_element(By.CSS_SELECTOR, '#layoutPage > div > div.container.b0 > div:nth-child(2) > div > div > div.u1n.u3n.un4.un6 > span').text.split(':')[1].replace(' ','')\n",
    "positiv = []\n",
    "negativ = []\n",
    "comment = []\n",
    "blocks = driver.find_elements(By.CLASS_NAME, 'aa4f')\n",
    "for block in blocks:\n",
    "    # Читаю названия разделов\n",
    "    headers = [x.text for x in block.find_elements(By.CLASS_NAME, 'aa3b')]\n",
    "    # Читаю текстовку в разделах\n",
    "    elements = block.find_elements(By.CLASS_NAME, 'aab3')\n",
    "    # print(headers)\n",
    "    # print(elements[0].text)\n",
    "    # Так как каждый раздел не обязателен, проверяю их наличие каждый раз\n",
    "    temp_positiv = \"\"\n",
    "    temp_negativ = \"\"\n",
    "    temp_comment = \"\"\n",
    "    for i, header in enumerate(headers):\n",
    "        if header == 'Достоинства':\n",
    "           temp_positiv = elements[i].text\n",
    "        if header == 'Недостатки':\n",
    "            temp_negativ = elements[i].text\n",
    "        if header == 'Комментарий':\n",
    "            temp_comment = elements[i].text\n",
    "    positiv.append(temp_positiv)\n",
    "    negativ.append(temp_negativ)\n",
    "    comment.append(temp_comment)\n",
    "# positiv = [x.find_element(By.CLASS_NAME, 'aab3').text for x in blocks]\n",
    "# negativ = [x.find_element(By.CLASS_NAME, 'aab3').text for x in blocks]\n",
    "# blocks[0].text\n",
    "ozone = pd.DataFrame({'Позитив': positiv,\n",
    "                      'Негатив': negativ,\n",
    "                      'Комментарий': comment})\n",
    "# ozone['Отзывы'] = ozone['Отзывы'].apply(lambda x: x.replace('\\n', ' '))\n",
    "\n",
    "# создаю новый признак Отзывы\n",
    "reviews = []\n",
    "for row in ozone.iterrows():\n",
    "    temp = []\n",
    "    for i in [0,1,2]:\n",
    "        if row[1][i] is not np.nan:\n",
    "            temp.append(row[1][i])\n",
    "    reviews.append(', '.join(temp))\n",
    "    # break\n",
    "ozone['Отзывы'] = reviews\n",
    "ozone['Отзывы'] = ozone['Отзывы'].apply(lambda x: re.sub('[^A-Za-z0-9А-Яа-яЁё ,]+', '', x.lower().replace('ё', 'е').replace('.', ' ')))\n",
    "\n",
    "\n",
    "ozone.to_csv(path_ozone + file_name + '' + '.csv', index=True, index_label='index')\n",
    "len(blocks)\n",
    "# ozone\n",
    "# blocks[0].text"
   ]
  },
  {
   "attachments": {},
   "cell_type": "markdown",
   "metadata": {},
   "source": [
    "### Работа с данными из файла"
   ]
  },
  {
   "cell_type": "code",
   "execution_count": 11,
   "metadata": {},
   "outputs": [
    {
     "data": {
      "text/html": [
       "<div>\n",
       "<style scoped>\n",
       "    .dataframe tbody tr th:only-of-type {\n",
       "        vertical-align: middle;\n",
       "    }\n",
       "\n",
       "    .dataframe tbody tr th {\n",
       "        vertical-align: top;\n",
       "    }\n",
       "\n",
       "    .dataframe thead th {\n",
       "        text-align: right;\n",
       "    }\n",
       "</style>\n",
       "<table border=\"1\" class=\"dataframe\">\n",
       "  <thead>\n",
       "    <tr style=\"text-align: right;\">\n",
       "      <th></th>\n",
       "      <th>Позитив</th>\n",
       "      <th>Негатив</th>\n",
       "      <th>Комментарий</th>\n",
       "      <th>Отзывы</th>\n",
       "    </tr>\n",
       "    <tr>\n",
       "      <th>index</th>\n",
       "      <th></th>\n",
       "      <th></th>\n",
       "      <th></th>\n",
       "      <th></th>\n",
       "    </tr>\n",
       "  </thead>\n",
       "  <tbody>\n",
       "    <tr>\n",
       "      <th>1007</th>\n",
       "      <td>NaN</td>\n",
       "      <td>NaN</td>\n",
       "      <td>NaN</td>\n",
       "      <td>, ,</td>\n",
       "    </tr>\n",
       "    <tr>\n",
       "      <th>1008</th>\n",
       "      <td>отличные подгузники, не протекают за ночь</td>\n",
       "      <td>нет</td>\n",
       "      <td>NaN</td>\n",
       "      <td>отличные подгузники, не протекают за ночь , не...</td>\n",
       "    </tr>\n",
       "    <tr>\n",
       "      <th>1009</th>\n",
       "      <td>Очень хорошие подгузники, полностью запечатаны...</td>\n",
       "      <td>NaN</td>\n",
       "      <td>NaN</td>\n",
       "      <td>очень хорошие подгузники, полностью запечатаны...</td>\n",
       "    </tr>\n",
       "  </tbody>\n",
       "</table>\n",
       "</div>"
      ],
      "text/plain": [
       "                                                 Позитив Негатив Комментарий  \\\n",
       "index                                                                          \n",
       "1007                                                 NaN     NaN         NaN   \n",
       "1008          отличные подгузники, не протекают за ночь     нет          NaN   \n",
       "1009   Очень хорошие подгузники, полностью запечатаны...     NaN         NaN   \n",
       "\n",
       "                                                  Отзывы  \n",
       "index                                                     \n",
       "1007                                                , ,   \n",
       "1008   отличные подгузники, не протекают за ночь , не...  \n",
       "1009   очень хорошие подгузники, полностью запечатаны...  "
      ]
     },
     "execution_count": 11,
     "metadata": {},
     "output_type": "execute_result"
    }
   ],
   "source": [
    "file_name = '269827648'\n",
    "df = pd.read_csv(path_ozone + file_name + '.csv', index_col='index')\n",
    "df.tail(3)"
   ]
  },
  {
   "attachments": {},
   "cell_type": "markdown",
   "metadata": {},
   "source": [
    "    Анализ популярности слов в отзывах\n",
    "* результат в файл _w.csv"
   ]
  },
  {
   "cell_type": "code",
   "execution_count": 12,
   "metadata": {},
   "outputs": [
    {
     "data": {
      "text/plain": [
       "не        495\n",
       "нет       227\n",
       "на        212\n",
       "мягкие    201\n",
       "и         188\n",
       "dtype: int64"
      ]
     },
     "execution_count": 12,
     "metadata": {},
     "output_type": "execute_result"
    }
   ],
   "source": [
    "# pd.Series(words).value_counts().sort_values(ascending=False)\n",
    "words = dict()\n",
    "for el in df['Отзывы'].values:\n",
    "    temp = el.replace(',', ' ').replace('.', ' ').split(' ')\n",
    "    for i, t in enumerate(temp):\n",
    "        # print(t, t not in words, words)\n",
    "        if i>0: # Ищет предлоги перед словом\n",
    "            predlogs = ['не', 'все']\n",
    "            for predlog in predlogs:\n",
    "                if temp[i-1] == predlog:\n",
    "                    t = predlog + ' ' + t\n",
    "        # Фильтрую слова\n",
    "        if t not in ['']:\n",
    "            # Добавляю слова, которые прошли фильтр\n",
    "            if t in words.keys():\n",
    "                words[t] = words[t] + 1\n",
    "            else:\n",
    "                words[t] = 1\n",
    "top_words = pd.Series(words).sort_values(ascending=False)\n",
    "top_words.to_csv(path_ozone + file_name + '_w' + '.csv')\n",
    "top_words.head(5)\n"
   ]
  },
  {
   "attachments": {},
   "cell_type": "markdown",
   "metadata": {},
   "source": [
    "    Статистика по словарю\n",
    "* результат в файл _p.csv\n",
    "* результат в файл _n.csv"
   ]
  },
  {
   "cell_type": "code",
   "execution_count": 15,
   "metadata": {},
   "outputs": [
    {
     "data": {
      "text/plain": [
       "не вызывают      18\n",
       "не протекает     15\n",
       "довольна         15\n",
       "хорошие          86\n",
       "мягкие          182\n",
       "понравились      22\n",
       "dtype: int64"
      ]
     },
     "metadata": {},
     "output_type": "display_data"
    },
    {
     "data": {
      "text/plain": [
       "плохие       12\n",
       "протекали     7\n",
       "dtype: int64"
      ]
     },
     "metadata": {},
     "output_type": "display_data"
    }
   ],
   "source": [
    "positiv = ['не вызывают', 'не протекает', 'довольна', 'хорошие', 'мягкие', 'понравились']\n",
    "negativ = ['плохие', 'протекали']\n",
    "\n",
    "rez_positiv = {}\n",
    "rez_negativ = {}\n",
    "for el in positiv:\n",
    "    rez_positiv[el] = df['Отзывы'].apply(lambda x: el in x).sum()\n",
    "for el in negativ:\n",
    "    rez_negativ[el] = df['Отзывы'].apply(lambda x: el in x).sum()\n",
    "\n",
    "s_rez_positiv = pd.Series(rez_positiv)\n",
    "s_rez_negativ = pd.Series(rez_negativ)\n",
    "s_rez_positiv.to_csv(path_ozone + file_name + '_p' + '.csv')\n",
    "s_rez_negativ.to_csv(path_ozone + file_name + '_n' + '.csv')\n",
    "display(s_rez_positiv)\n",
    "display(s_rez_negativ)"
   ]
  }
 ],
 "metadata": {
  "kernelspec": {
   "display_name": "Python 3",
   "language": "python",
   "name": "python3"
  },
  "language_info": {
   "codemirror_mode": {
    "name": "ipython",
    "version": 3
   },
   "file_extension": ".py",
   "mimetype": "text/x-python",
   "name": "python",
   "nbconvert_exporter": "python",
   "pygments_lexer": "ipython3",
   "version": "3.8.7"
  },
  "orig_nbformat": 4,
  "vscode": {
   "interpreter": {
    "hash": "7d684bffd5f083869957e8be1feba540335dc9e4c8667b20b64a7d6f2068319d"
   }
  }
 },
 "nbformat": 4,
 "nbformat_minor": 2
}
